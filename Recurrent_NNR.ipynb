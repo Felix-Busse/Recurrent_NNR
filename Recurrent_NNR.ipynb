{
 "cells": [
  {
   "cell_type": "markdown",
   "id": "ca380298",
   "metadata": {},
   "source": [
    "# Recurrent NNR (LSTM) on equation of motion"
   ]
  },
  {
   "cell_type": "code",
   "execution_count": 1,
   "id": "14a1dbdc",
   "metadata": {},
   "outputs": [
    {
     "name": "stderr",
     "output_type": "stream",
     "text": [
      "2023-05-09 20:03:42.484749: I tensorflow/tsl/cuda/cudart_stub.cc:28] Could not find cuda drivers on your machine, GPU will not be used.\n",
      "2023-05-09 20:03:42.912640: I tensorflow/tsl/cuda/cudart_stub.cc:28] Could not find cuda drivers on your machine, GPU will not be used.\n",
      "2023-05-09 20:03:42.914992: I tensorflow/core/platform/cpu_feature_guard.cc:182] This TensorFlow binary is optimized to use available CPU instructions in performance-critical operations.\n",
      "To enable the following instructions: AVX2 FMA, in other operations, rebuild TensorFlow with the appropriate compiler flags.\n",
      "2023-05-09 20:03:44.321417: W tensorflow/compiler/tf2tensorrt/utils/py_utils.cc:38] TF-TRT Warning: Could not find TensorRT\n"
     ]
    }
   ],
   "source": [
    "import numpy as np\n",
    "import matplotlib.pyplot as plt\n",
    "import pandas as pd\n",
    "import scipy as sc\n",
    "import tensorflow.keras as ks"
   ]
  },
  {
   "cell_type": "markdown",
   "id": "b0f0e161",
   "metadata": {},
   "source": [
    "## Defining equation of motions and create sample trajectories"
   ]
  },
  {
   "cell_type": "markdown",
   "id": "9ad4907a",
   "metadata": {},
   "source": [
    "Physical problem: Finding trajectory of particle P_0. Forces on particle 0 are gravity from two bodies B_1, B_2. \n",
    "While B_1 rests in center of coordinate system, while B_2 moves around B_1 on a circular trajectory."
   ]
  },
  {
   "cell_type": "code",
   "execution_count": 175,
   "id": "a06c2723",
   "metadata": {},
   "outputs": [],
   "source": [
    "# Defining a class that holds all information about a particle or body\n",
    "class space_body():\n",
    "    '''Class that holds position and mass in properties. Returns distance to other objects\n",
    "    by calling method \"dist_to_object()\" Returns array with own positions by calling method \".pos()\".\n",
    "    Methods:\n",
    "        .dist_to_object(position) Returns distance to objects located at position, position: 2D list-like\n",
    "        .pos() Returns 2D list-like of own position\n",
    "        .normalized_diff_vector(position) Returns normalized differential vector pointing to object located at\n",
    "                position, position: 2D list-like'''\n",
    "    def __init__(self, position, mass, radius):\n",
    "        self.x = position[0]\n",
    "        self.y = position[1]\n",
    "        self.m = mass\n",
    "        self.r = radius\n",
    "        \n",
    "    def pos(self):\n",
    "        return np.array([self.x, self.y])\n",
    "        \n",
    "    def dist_to_object(self, position):\n",
    "        return np.sqrt((self.x - position[0])**2 + (self.y - position[1])**2)\n",
    "    \n",
    "    def normalized_diff_vector(self, position):\n",
    "        abs_value = np.sqrt((position[0] - self.x)**2 + (position[1] - self.y)**2)\n",
    "        return np.array([position[0] - self.x, position[1] - self.y]) / abs_value\n",
    "    \n",
    "# Defining a class that hold additionally its velocity\n",
    "class space_particle(space_body):\n",
    "    '''Class that holds position, mass and velocity in properties. \n",
    "    Additional properties t_series, pos_series, vel_series store result of integration of equation of motion:\n",
    "    t: Stores time steps\n",
    "    pos: stores position vectors as 2D array, shape (timesteps, 2)\n",
    "    vel: stores velocity vectors as 2D array, shape (timesteps, 2)\n",
    "    Returns distance to other objects by calling method \"dist_to_object()\".\n",
    "    Integrates equation of motion with property .integrate(), see details in doc string of method'''\n",
    "    def __init__(self, position, velocity, mass, radius):\n",
    "        self.x = position[0]\n",
    "        self.y = position[1]\n",
    "        self.v_x = velocity[0]\n",
    "        self.v_y = velocity[1]\n",
    "        self.m = mass\n",
    "        self.r = radius\n",
    "        self.solution = pd.DataFrame()\n",
    "\n",
    "    def RK_dy_dt(self, t, y, G, bodies):\n",
    "        '''Defining right hand side of motions of equations, to be able to pass them to Runge Kutta solver\n",
    "        Force on P_0 by B_1 causes acceleration. Velocities are easily obtained from vector y.'''\n",
    "        # Writing new values to position and velocity of P_0 object\n",
    "        self.x = y[0]\n",
    "        self.y = y[1]\n",
    "        self.v_x = y[2]\n",
    "        self.v_y = y[3]\n",
    "        \n",
    "        # numeric values to sum up acceleration for x- and y-coordinate for every body, initialized with 0\n",
    "        acc_x = 0\n",
    "        acc_y = 0\n",
    "        for i, body in enumerate(bodies):\n",
    "            # Calculating absolut value of acceleration caused by gravitational force of each body on P_0\n",
    "            if self.dist_to_object(body.pos()) < 0.01: # If true: avoid division by zero\n",
    "                abs_acc = G * body.m * 0.01**(-2)\n",
    "            else:\n",
    "                abs_acc = G * body.m * self.dist_to_object(body.pos())**(-2)\n",
    "            # Calculate x-component of acceleration\n",
    "            acc_x += np.array([1, 0]) @ self.normalized_diff_vector(body.pos()) * abs_acc\n",
    "            # Calculate y-component of acceleration\n",
    "            acc_y += np.array([0, 1]) @ self.normalized_diff_vector(body.pos()) * abs_acc\n",
    "        return [self.v_x, self.v_y, acc_x, acc_y]\n",
    "    \n",
    "    def integrate(self, G, bodies, t_span, n_points, rtol=1E-5):\n",
    "        '''Integrate equation of motion in presence of Body. Parameters:\n",
    "        G: gravitational constant\n",
    "        Body: space_body object, gravitation force of this body will act on particle\n",
    "        t_span: tuple of two numerical values, defining time interval of integration\n",
    "        n_points: integer defining number of steps in result of integration\n",
    "        rtol: numerical value defining tolerance for Runge-Kutta solver\n",
    "        \n",
    "        Has no return value, fills property DataFrame \"solution\" with result of integration'''\n",
    "        integration = sc.integrate.solve_ivp(lambda t, y: self.RK_dy_dt(t, y, G, bodies), t_span=t_span, \n",
    "                                              y0=np.array([self.x, self.y, self.v_x, self.v_y]), \n",
    "                                              t_eval=np.linspace(t_span[0], t_span[1], n_points), rtol=1E-5)\n",
    "        self.solution = self.solution.assign(\n",
    "            t=integration.t,\n",
    "            x=integration.y[0],\n",
    "            y=integration.y[1],\n",
    "            v_x=integration.y[2],\n",
    "            v_y=integration.y[3]\n",
    "        )\n",
    "    \n",
    "    def show_trajectory(self, bodies=None):\n",
    "        '''Method to create an plot of trajectory (result of integration of equation of motion).\n",
    "        Optional arguement \"bodies\", accepts list of space_body objects to be plottet additionally in plot'''\n",
    "        fig, ax = plt.subplots()\n",
    "        ax.set_xlabel('x-coordinate [a.u.]')\n",
    "        ax.set_ylabel('y-coordinate [a.u.]')\n",
    "        ax.set_aspect(aspect='equal', adjustable='box') # force same scale for both axes\n",
    "        abs_max_axes = self.solution[['x', 'y']].abs().max().max() + 1# maximum of absolute values of coordinates x,y\n",
    "        ax.set_xlim(-abs_max_axes, abs_max_axes)\n",
    "        ax.set_ylim(-abs_max_axes, abs_max_axes)\n",
    "        ax.scatter(self.solution.x, self.solution.y, c=self.solution.t, s=8)\n",
    "        if bodies != None:\n",
    "            for i, body in enumerate(bodies):\n",
    "                ax.scatter(body.x, body.y, c='k', s=250)"
   ]
  },
  {
   "cell_type": "code",
   "execution_count": 185,
   "id": "f9707843",
   "metadata": {},
   "outputs": [
    {
     "data": {
      "image/png": "[encoded data removed]",
      "text/plain": [
       "<Figure size 640x480 with 1 Axes>"
      ]
     },
     "metadata": {},
     "output_type": "display_data"
    }
   ],
   "source": [
    "# First example: No B_2, just P_0 with force from B_1\n",
    "G = 1 # Gravitational constant\n",
    "\n",
    "# Create body in center of coordinate system with big mass\n",
    "B_1 = space_body(position=[0, 0], mass=1.0, radius=0.05)\n",
    "# Create body in 10 unit distance along x from B_1\n",
    "B_2 = space_body(position=[10, 0], mass=1.0, radius=0.05)\n",
    "\n",
    "# Create particle that contains velocity, as well\n",
    "P_0 = space_particle(position=[0.15, 0], velocity=[3.55, .455], mass=0.05, radius=0.05) \n",
    "# velocity=[3.55, .45]\n",
    "\n",
    "# Integrate equation of motion in presence of B_1\n",
    "P_0.integrate(G, [B_1, B_2], t_span=(0, 200), n_points=1000)\n",
    "# Display result in a plot of trajectory\n",
    "P_0.show_trajectory(bodies=[B_1, B_2])"
   ]
  },
  {
   "cell_type": "code",
   "execution_count": 229,
   "id": "407b0bb5",
   "metadata": {},
   "outputs": [
    {
     "data": {
      "text/plain": [
       "1.0"
      ]
     },
     "execution_count": 229,
     "metadata": {},
     "output_type": "execute_result"
    }
   ],
   "source": [
    "P_0.solution[['x', 'y']].abs().max().max()"
   ]
  },
  {
   "cell_type": "code",
   "execution_count": 210,
   "id": "691d5764",
   "metadata": {},
   "outputs": [
    {
     "data": {
      "text/html": [
       "<div>\n",
       "<style scoped>\n",
       "    .dataframe tbody tr th:only-of-type {\n",
       "        vertical-align: middle;\n",
       "    }\n",
       "\n",
       "    .dataframe tbody tr th {\n",
       "        vertical-align: top;\n",
       "    }\n",
       "\n",
       "    .dataframe thead th {\n",
       "        text-align: right;\n",
       "    }\n",
       "</style>\n",
       "<table border=\"1\" class=\"dataframe\">\n",
       "  <thead>\n",
       "    <tr style=\"text-align: right;\">\n",
       "      <th></th>\n",
       "      <th>t</th>\n",
       "      <th>x</th>\n",
       "    </tr>\n",
       "  </thead>\n",
       "  <tbody>\n",
       "    <tr>\n",
       "      <th>0</th>\n",
       "      <td>0.000000</td>\n",
       "      <td>1.000000</td>\n",
       "    </tr>\n",
       "    <tr>\n",
       "      <th>1</th>\n",
       "      <td>0.151515</td>\n",
       "      <td>0.988501</td>\n",
       "    </tr>\n",
       "    <tr>\n",
       "      <th>2</th>\n",
       "      <td>0.303030</td>\n",
       "      <td>0.953758</td>\n",
       "    </tr>\n",
       "    <tr>\n",
       "      <th>3</th>\n",
       "      <td>0.454545</td>\n",
       "      <td>0.895006</td>\n",
       "    </tr>\n",
       "    <tr>\n",
       "      <th>4</th>\n",
       "      <td>0.606061</td>\n",
       "      <td>0.810876</td>\n",
       "    </tr>\n",
       "    <tr>\n",
       "      <th>...</th>\n",
       "      <td>...</td>\n",
       "      <td>...</td>\n",
       "    </tr>\n",
       "    <tr>\n",
       "      <th>95</th>\n",
       "      <td>14.393939</td>\n",
       "      <td>0.839355</td>\n",
       "    </tr>\n",
       "    <tr>\n",
       "      <th>96</th>\n",
       "      <td>14.545455</td>\n",
       "      <td>0.915405</td>\n",
       "    </tr>\n",
       "    <tr>\n",
       "      <th>97</th>\n",
       "      <td>14.696970</td>\n",
       "      <td>0.966535</td>\n",
       "    </tr>\n",
       "    <tr>\n",
       "      <th>98</th>\n",
       "      <td>14.848485</td>\n",
       "      <td>0.993922</td>\n",
       "    </tr>\n",
       "    <tr>\n",
       "      <th>99</th>\n",
       "      <td>15.000000</td>\n",
       "      <td>0.998160</td>\n",
       "    </tr>\n",
       "  </tbody>\n",
       "</table>\n",
       "<p>100 rows × 2 columns</p>\n",
       "</div>"
      ],
      "text/plain": [
       "            t         x\n",
       "0    0.000000  1.000000\n",
       "1    0.151515  0.988501\n",
       "2    0.303030  0.953758\n",
       "3    0.454545  0.895006\n",
       "4    0.606061  0.810876\n",
       "..        ...       ...\n",
       "95  14.393939  0.839355\n",
       "96  14.545455  0.915405\n",
       "97  14.696970  0.966535\n",
       "98  14.848485  0.993922\n",
       "99  15.000000  0.998160\n",
       "\n",
       "[100 rows x 2 columns]"
      ]
     },
     "execution_count": 210,
     "metadata": {},
     "output_type": "execute_result"
    }
   ],
   "source": [
    "P_0.solution[['t', 'x']]"
   ]
  },
  {
   "cell_type": "code",
   "execution_count": 167,
   "id": "a70ec0a0",
   "metadata": {},
   "outputs": [
    {
     "data": {
      "text/html": [
       "<div>\n",
       "<style scoped>\n",
       "    .dataframe tbody tr th:only-of-type {\n",
       "        vertical-align: middle;\n",
       "    }\n",
       "\n",
       "    .dataframe tbody tr th {\n",
       "        vertical-align: top;\n",
       "    }\n",
       "\n",
       "    .dataframe thead th {\n",
       "        text-align: right;\n",
       "    }\n",
       "</style>\n",
       "<table border=\"1\" class=\"dataframe\">\n",
       "  <thead>\n",
       "    <tr style=\"text-align: right;\">\n",
       "      <th></th>\n",
       "      <th>hallo</th>\n",
       "    </tr>\n",
       "  </thead>\n",
       "  <tbody>\n",
       "    <tr>\n",
       "      <th>0</th>\n",
       "      <td>0</td>\n",
       "    </tr>\n",
       "    <tr>\n",
       "      <th>1</th>\n",
       "      <td>1</td>\n",
       "    </tr>\n",
       "  </tbody>\n",
       "</table>\n",
       "</div>"
      ],
      "text/plain": [
       "   hallo\n",
       "0      0\n",
       "1      1"
      ]
     },
     "execution_count": 167,
     "metadata": {},
     "output_type": "execute_result"
    }
   ],
   "source": [
    "solution = pd.DataFrame()\n",
    "solution.assign(hallo=[0, 1])"
   ]
  },
  {
   "cell_type": "code",
   "execution_count": 168,
   "id": "dfe627b1",
   "metadata": {},
   "outputs": [
    {
     "data": {
      "text/html": [
       "<div>\n",
       "<style scoped>\n",
       "    .dataframe tbody tr th:only-of-type {\n",
       "        vertical-align: middle;\n",
       "    }\n",
       "\n",
       "    .dataframe tbody tr th {\n",
       "        vertical-align: top;\n",
       "    }\n",
       "\n",
       "    .dataframe thead th {\n",
       "        text-align: right;\n",
       "    }\n",
       "</style>\n",
       "<table border=\"1\" class=\"dataframe\">\n",
       "  <thead>\n",
       "    <tr style=\"text-align: right;\">\n",
       "      <th></th>\n",
       "    </tr>\n",
       "  </thead>\n",
       "  <tbody>\n",
       "  </tbody>\n",
       "</table>\n",
       "</div>"
      ],
      "text/plain": [
       "Empty DataFrame\n",
       "Columns: []\n",
       "Index: []"
      ]
     },
     "execution_count": 168,
     "metadata": {},
     "output_type": "execute_result"
    }
   ],
   "source": [
    "solution"
   ]
  },
  {
   "cell_type": "code",
   "execution_count": 137,
   "id": "5e1805a9",
   "metadata": {},
   "outputs": [
    {
     "data": {
      "text/plain": [
       "[<matplotlib.lines.Line2D at 0x7f096ca18fd0>]"
      ]
     },
     "execution_count": 137,
     "metadata": {},
     "output_type": "execute_result"
    },
    {
     "data": {
      "image/png": "[encoded data removed]",
      "text/plain": [
       "<Figure size 640x480 with 1 Axes>"
      ]
     },
     "metadata": {},
     "output_type": "display_data"
    }
   ],
   "source": [
    "fig, ax = plt.subplots()\n",
    "ax.plot(integration.t, integration.y[0, :])"
   ]
  },
  {
   "cell_type": "code",
   "execution_count": 90,
   "id": "8464d550",
   "metadata": {},
   "outputs": [
    {
     "data": {
      "text/plain": [
       "array([0.0000e+00, 1.0000e-04, 1.1000e-03, 1.1100e-02, 1.1110e-01,\n",
       "       1.1111e+00, 1.0000e+01])"
      ]
     },
     "execution_count": 90,
     "metadata": {},
     "output_type": "execute_result"
    }
   ],
   "source": [
    "integration.t"
   ]
  },
  {
   "cell_type": "code",
   "execution_count": null,
   "id": "a2675631",
   "metadata": {},
   "outputs": [],
   "source": []
  },
  {
   "cell_type": "code",
   "execution_count": null,
   "id": "330865a3",
   "metadata": {},
   "outputs": [],
   "source": []
  }
 ],
 "metadata": {
  "kernelspec": {
   "display_name": "Python 3 (ipykernel)",
   "language": "python",
   "name": "python3"
  },
  "language_info": {
   "codemirror_mode": {
    "name": "ipython",
    "version": 3
   },
   "file_extension": ".py",
   "mimetype": "text/x-python",
   "name": "python",
   "nbconvert_exporter": "python",
   "pygments_lexer": "ipython3",
   "version": "3.10.6"
  }
 },
 "nbformat": 4,
 "nbformat_minor": 5
}
