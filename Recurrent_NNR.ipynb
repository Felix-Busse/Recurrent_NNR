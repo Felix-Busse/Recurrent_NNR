{
 "cells": [
  {
   "cell_type": "markdown",
   "id": "ca380298",
   "metadata": {},
   "source": [
    "# Recurrent NNR (LSTM) on equation of motion"
   ]
  },
  {
   "cell_type": "code",
   "execution_count": 1,
   "id": "14a1dbdc",
   "metadata": {},
   "outputs": [
    {
     "name": "stderr",
     "output_type": "stream",
     "text": [
      "2023-05-08 10:47:09.048959: I tensorflow/tsl/cuda/cudart_stub.cc:28] Could not find cuda drivers on your machine, GPU will not be used.\n",
      "2023-05-08 10:47:09.097116: I tensorflow/tsl/cuda/cudart_stub.cc:28] Could not find cuda drivers on your machine, GPU will not be used.\n",
      "2023-05-08 10:47:09.097909: I tensorflow/core/platform/cpu_feature_guard.cc:182] This TensorFlow binary is optimized to use available CPU instructions in performance-critical operations.\n",
      "To enable the following instructions: AVX2 FMA, in other operations, rebuild TensorFlow with the appropriate compiler flags.\n",
      "2023-05-08 10:47:10.252096: W tensorflow/compiler/tf2tensorrt/utils/py_utils.cc:38] TF-TRT Warning: Could not find TensorRT\n"
     ]
    }
   ],
   "source": [
    "import numpy as np\n",
    "import matplotlib.pyplot as plt\n",
    "import scipy as sc\n",
    "import tensorflow.keras as ks"
   ]
  },
  {
   "cell_type": "markdown",
   "id": "b0f0e161",
   "metadata": {},
   "source": [
    "## Defining equation of motions and create sample trajectories"
   ]
  },
  {
   "cell_type": "markdown",
   "id": "9ad4907a",
   "metadata": {},
   "source": [
    "Physical problem: Finding trajectory of particle P_0. Forces on particle 0 are gravity from two bodies B_1, B_2. \n",
    "While B_1 rests in center of coordinate system, while B_2 moves around B_1 on a circular trajectory."
   ]
  },
  {
   "cell_type": "code",
   "execution_count": 14,
   "id": "a06c2723",
   "metadata": {},
   "outputs": [],
   "source": [
    "# Defining a class that holds all information about a particle or body\n",
    "class space_body():\n",
    "    '''Class that holds position and mass in properties. Returns distance to other objects\n",
    "    by calling method \"dist_to_object()\" Returns array with own positions by calling method \".pos()\".\n",
    "    Methods:\n",
    "        .dist_to_object(position) Returns distance to objects located at position, position: 2D list-like\n",
    "        .pos() Returns 2D list-like of own position\n",
    "        .normalized_diff_vector(position) Returns normalized differential vector pointing to object located at\n",
    "                position, position: 2D list-like'''\n",
    "    def __init__(self, position, mass):\n",
    "        self.x = position[0]\n",
    "        self.y = position[1]\n",
    "        self.m = mass\n",
    "        \n",
    "    def pos(self):\n",
    "        return np.array([self.x, self.y])\n",
    "        \n",
    "    def dist_to_object(self, position):\n",
    "        return np.sqrt((self.x - position[0])**2 + (self.y - position[1])**2)\n",
    "    \n",
    "    def normalized_diff_vector(self, position):\n",
    "        abs_value = np.sqrt((position[0] - self.x)**2 + (position[1] - self.y)**2)\n",
    "        return np.array([position[0] - self.x, position[1] - self.y]) / abs_value\n",
    "    \n",
    "# Defining a class that hold additionally its velocity\n",
    "class space_particle(space_body):\n",
    "    '''Class that holds position, mass and additionally velocity in properties. Returns distance to other objects\n",
    "    by calling method \"dist_to_object()\". Returns velocity by calling method \".velo()\".'''\n",
    "    def __init__(self, position, velocity, mass):\n",
    "        self.x = position[0]\n",
    "        self.y = position[1]\n",
    "        self.v_x = velocity[0]\n",
    "        self.v_y = velocity[1]\n",
    "        self.m = mass\n",
    "        \n",
    "    def velo(self):\n",
    "        return np.array([self.v_x, self.v_y])"
   ]
  },
  {
   "cell_type": "code",
   "execution_count": 36,
   "id": "f9707843",
   "metadata": {},
   "outputs": [
    {
     "ename": "TypeError",
     "evalue": "'numpy.ndarray' object is not callable",
     "output_type": "error",
     "traceback": [
      "\u001b[0;31m---------------------------------------------------------------------------\u001b[0m",
      "\u001b[0;31mTypeError\u001b[0m                                 Traceback (most recent call last)",
      "Cell \u001b[0;32mIn[36], line 17\u001b[0m\n\u001b[1;32m     14\u001b[0m     \u001b[38;5;28;01mreturn\u001b[39;00m P_0\u001b[38;5;241m.\u001b[39mnormalized_diff_vector(B_1\u001b[38;5;241m.\u001b[39mpos()) \u001b[38;5;241m*\u001b[39m abs_force\n\u001b[1;32m     16\u001b[0m \u001b[38;5;66;03m#Int_velo = sc.integrate.RK23(P_0.velo, 0, np.array([1, 0]), t_bound=2)\u001b[39;00m\n\u001b[0;32m---> 17\u001b[0m Int_force \u001b[38;5;241m=\u001b[39m \u001b[43msc\u001b[49m\u001b[38;5;241;43m.\u001b[39;49m\u001b[43mintegrate\u001b[49m\u001b[38;5;241;43m.\u001b[39;49m\u001b[43mRK23\u001b[49m\u001b[43m(\u001b[49m\u001b[43mforce_on_particle\u001b[49m\u001b[43m(\u001b[49m\u001b[43mP_0\u001b[49m\u001b[43m,\u001b[49m\u001b[43m \u001b[49m\u001b[43mB_1\u001b[49m\u001b[43m)\u001b[49m\u001b[43m,\u001b[49m\u001b[43m \u001b[49m\u001b[38;5;241;43m0\u001b[39;49m\u001b[43m,\u001b[49m\u001b[43m \u001b[49m\u001b[43my0\u001b[49m\u001b[38;5;241;43m=\u001b[39;49m\u001b[43mnp\u001b[49m\u001b[38;5;241;43m.\u001b[39;49m\u001b[43marray\u001b[49m\u001b[43m(\u001b[49m\u001b[43m[\u001b[49m\u001b[38;5;241;43m0\u001b[39;49m\u001b[43m,\u001b[49m\u001b[43m \u001b[49m\u001b[38;5;241;43m1\u001b[39;49m\u001b[43m]\u001b[49m\u001b[43m)\u001b[49m\u001b[43m,\u001b[49m\u001b[43m \u001b[49m\u001b[43mt_bound\u001b[49m\u001b[38;5;241;43m=\u001b[39;49m\u001b[38;5;241;43m2\u001b[39;49m\u001b[43m)\u001b[49m\n\u001b[1;32m     18\u001b[0m \u001b[38;5;28;01mfor\u001b[39;00m i \u001b[38;5;129;01min\u001b[39;00m \u001b[38;5;28mrange\u001b[39m(\u001b[38;5;241m5\u001b[39m):\n\u001b[1;32m     19\u001b[0m     Int_force\u001b[38;5;241m.\u001b[39mstep()\n",
      "File \u001b[0;32m~/ml_for_physicists/lib/python3.10/site-packages/scipy/integrate/_ivp/rk.py:94\u001b[0m, in \u001b[0;36mRungeKutta.__init__\u001b[0;34m(self, fun, t0, y0, t_bound, max_step, rtol, atol, vectorized, first_step, **extraneous)\u001b[0m\n\u001b[1;32m     92\u001b[0m \u001b[38;5;28mself\u001b[39m\u001b[38;5;241m.\u001b[39mmax_step \u001b[38;5;241m=\u001b[39m validate_max_step(max_step)\n\u001b[1;32m     93\u001b[0m \u001b[38;5;28mself\u001b[39m\u001b[38;5;241m.\u001b[39mrtol, \u001b[38;5;28mself\u001b[39m\u001b[38;5;241m.\u001b[39matol \u001b[38;5;241m=\u001b[39m validate_tol(rtol, atol, \u001b[38;5;28mself\u001b[39m\u001b[38;5;241m.\u001b[39mn)\n\u001b[0;32m---> 94\u001b[0m \u001b[38;5;28mself\u001b[39m\u001b[38;5;241m.\u001b[39mf \u001b[38;5;241m=\u001b[39m \u001b[38;5;28;43mself\u001b[39;49m\u001b[38;5;241;43m.\u001b[39;49m\u001b[43mfun\u001b[49m\u001b[43m(\u001b[49m\u001b[38;5;28;43mself\u001b[39;49m\u001b[38;5;241;43m.\u001b[39;49m\u001b[43mt\u001b[49m\u001b[43m,\u001b[49m\u001b[43m \u001b[49m\u001b[38;5;28;43mself\u001b[39;49m\u001b[38;5;241;43m.\u001b[39;49m\u001b[43my\u001b[49m\u001b[43m)\u001b[49m\n\u001b[1;32m     95\u001b[0m \u001b[38;5;28;01mif\u001b[39;00m first_step \u001b[38;5;129;01mis\u001b[39;00m \u001b[38;5;28;01mNone\u001b[39;00m:\n\u001b[1;32m     96\u001b[0m     \u001b[38;5;28mself\u001b[39m\u001b[38;5;241m.\u001b[39mh_abs \u001b[38;5;241m=\u001b[39m select_initial_step(\n\u001b[1;32m     97\u001b[0m         \u001b[38;5;28mself\u001b[39m\u001b[38;5;241m.\u001b[39mfun, \u001b[38;5;28mself\u001b[39m\u001b[38;5;241m.\u001b[39mt, \u001b[38;5;28mself\u001b[39m\u001b[38;5;241m.\u001b[39my, \u001b[38;5;28mself\u001b[39m\u001b[38;5;241m.\u001b[39mf, \u001b[38;5;28mself\u001b[39m\u001b[38;5;241m.\u001b[39mdirection,\n\u001b[1;32m     98\u001b[0m         \u001b[38;5;28mself\u001b[39m\u001b[38;5;241m.\u001b[39merror_estimator_order, \u001b[38;5;28mself\u001b[39m\u001b[38;5;241m.\u001b[39mrtol, \u001b[38;5;28mself\u001b[39m\u001b[38;5;241m.\u001b[39matol)\n",
      "File \u001b[0;32m~/ml_for_physicists/lib/python3.10/site-packages/scipy/integrate/_ivp/base.py:138\u001b[0m, in \u001b[0;36mOdeSolver.__init__.<locals>.fun\u001b[0;34m(t, y)\u001b[0m\n\u001b[1;32m    136\u001b[0m \u001b[38;5;28;01mdef\u001b[39;00m \u001b[38;5;21mfun\u001b[39m(t, y):\n\u001b[1;32m    137\u001b[0m     \u001b[38;5;28mself\u001b[39m\u001b[38;5;241m.\u001b[39mnfev \u001b[38;5;241m+\u001b[39m\u001b[38;5;241m=\u001b[39m \u001b[38;5;241m1\u001b[39m\n\u001b[0;32m--> 138\u001b[0m     \u001b[38;5;28;01mreturn\u001b[39;00m \u001b[38;5;28;43mself\u001b[39;49m\u001b[38;5;241;43m.\u001b[39;49m\u001b[43mfun_single\u001b[49m\u001b[43m(\u001b[49m\u001b[43mt\u001b[49m\u001b[43m,\u001b[49m\u001b[43m \u001b[49m\u001b[43my\u001b[49m\u001b[43m)\u001b[49m\n",
      "File \u001b[0;32m~/ml_for_physicists/lib/python3.10/site-packages/scipy/integrate/_ivp/base.py:20\u001b[0m, in \u001b[0;36mcheck_arguments.<locals>.fun_wrapped\u001b[0;34m(t, y)\u001b[0m\n\u001b[1;32m     19\u001b[0m \u001b[38;5;28;01mdef\u001b[39;00m \u001b[38;5;21mfun_wrapped\u001b[39m(t, y):\n\u001b[0;32m---> 20\u001b[0m     \u001b[38;5;28;01mreturn\u001b[39;00m np\u001b[38;5;241m.\u001b[39masarray(\u001b[43mfun\u001b[49m\u001b[43m(\u001b[49m\u001b[43mt\u001b[49m\u001b[43m,\u001b[49m\u001b[43m \u001b[49m\u001b[43my\u001b[49m\u001b[43m)\u001b[49m, dtype\u001b[38;5;241m=\u001b[39mdtype)\n",
      "\u001b[0;31mTypeError\u001b[0m: 'numpy.ndarray' object is not callable"
     ]
    }
   ],
   "source": [
    "# First example: No B_2, just P_0 with force from B_1\n",
    "G = 0.1 # Gravitational constant\n",
    "\n",
    "# Create body in center of coordinate system with big mass\n",
    "B_1 = space_body(position=[0, 0], mass=1.0)\n",
    "# Create particle that contains velocity, as well\n",
    "P_0 = space_particle(position=[1, 0], velocity=[0, 1], mass=0.05\n",
    "                    )\n",
    "# Defining right hand side of motions of equations, to be able to pass them to Runge Kutta solver\n",
    "# Force on P_0 by B_1\n",
    "def force_on_particle(P_0, B_1):\n",
    "    '''Returns vector for force caused by B_1 on P_0.'''\n",
    "    abs_force = G * B_1.m * 1/(np.sqrt(B_1.dist_to_object(P_0.pos())))\n",
    "    return P_0.normalized_diff_vector(B_1.pos()) * abs_force\n",
    "\n",
    "#Int_velo = sc.integrate.RK23(P_0.velo, 0, np.array([1, 0]), t_bound=2)\n",
    "Int_force = sc.integrate.RK23(force_on_particle(P_0, B_1), 0, y0=np.array([0, 1]), t_bound=2)\n",
    "for i in range(5):\n",
    "    Int_force.step()\n",
    "#    Int_velo.step()"
   ]
  },
  {
   "cell_type": "code",
   "execution_count": 29,
   "id": "566511d7",
   "metadata": {},
   "outputs": [
    {
     "data": {
      "text/plain": [
       "array([-0.1,  0. ])"
      ]
     },
     "execution_count": 29,
     "metadata": {},
     "output_type": "execute_result"
    }
   ],
   "source": [
    "force_on_particle(P_0, B_1)"
   ]
  },
  {
   "cell_type": "code",
   "execution_count": 25,
   "id": "691d5764",
   "metadata": {},
   "outputs": [
    {
     "data": {
      "text/plain": [
       "array([-1.,  0.])"
      ]
     },
     "execution_count": 25,
     "metadata": {},
     "output_type": "execute_result"
    }
   ],
   "source": [
    "P_0.normalized_diff_vector(B_1.pos())"
   ]
  },
  {
   "cell_type": "code",
   "execution_count": 26,
   "id": "a70ec0a0",
   "metadata": {},
   "outputs": [
    {
     "data": {
      "text/plain": [
       "array([1., 0.])"
      ]
     },
     "execution_count": 26,
     "metadata": {},
     "output_type": "execute_result"
    }
   ],
   "source": [
    "B_1.normalized_diff_vector(P_0.pos())"
   ]
  },
  {
   "cell_type": "code",
   "execution_count": 136,
   "id": "dfe627b1",
   "metadata": {},
   "outputs": [],
   "source": [
    "force_const = [2]\n",
    "\n",
    "def force(y, t, c):\n",
    "    if y[0] < 0.2:\n",
    "        return [y[1], 150*(0.2 - y[0])]\n",
    "    else:\n",
    "        return [y[1], -c[0]/(y[0])**2]\n",
    "\n",
    "integration = sc.integrate.solve_ivp(lambda t, y: force(y, t, force_const), t_span=(0, 10), y0=np.array([1, 1.2]), \n",
    "                                     t_eval=np.linspace(0, 10, 500), rtol=1E-5)"
   ]
  },
  {
   "cell_type": "code",
   "execution_count": 137,
   "id": "5e1805a9",
   "metadata": {},
   "outputs": [
    {
     "data": {
      "text/plain": [
       "[<matplotlib.lines.Line2D at 0x7f096ca18fd0>]"
      ]
     },
     "execution_count": 137,
     "metadata": {},
     "output_type": "execute_result"
    },
    {
     "data": {
      "image/png": "[encoded data removed]",
      "text/plain": [
       "<Figure size 640x480 with 1 Axes>"
      ]
     },
     "metadata": {},
     "output_type": "display_data"
    }
   ],
   "source": [
    "fig, ax = plt.subplots()\n",
    "ax.plot(integration.t, integration.y[0, :])"
   ]
  },
  {
   "cell_type": "code",
   "execution_count": 90,
   "id": "8464d550",
   "metadata": {},
   "outputs": [
    {
     "data": {
      "text/plain": [
       "array([0.0000e+00, 1.0000e-04, 1.1000e-03, 1.1100e-02, 1.1110e-01,\n",
       "       1.1111e+00, 1.0000e+01])"
      ]
     },
     "execution_count": 90,
     "metadata": {},
     "output_type": "execute_result"
    }
   ],
   "source": [
    "integration.t"
   ]
  },
  {
   "cell_type": "code",
   "execution_count": null,
   "id": "a2675631",
   "metadata": {},
   "outputs": [],
   "source": []
  },
  {
   "cell_type": "code",
   "execution_count": null,
   "id": "330865a3",
   "metadata": {},
   "outputs": [],
   "source": []
  }
 ],
 "metadata": {
  "kernelspec": {
   "display_name": "Python 3 (ipykernel)",
   "language": "python",
   "name": "python3"
  },
  "language_info": {
   "codemirror_mode": {
    "name": "ipython",
    "version": 3
   },
   "file_extension": ".py",
   "mimetype": "text/x-python",
   "name": "python",
   "nbconvert_exporter": "python",
   "pygments_lexer": "ipython3",
   "version": "3.10.6"
  }
 },
 "nbformat": 4,
 "nbformat_minor": 5
}
